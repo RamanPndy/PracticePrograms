{
 "cells": [
  {
   "cell_type": "code",
   "execution_count": 4,
   "metadata": {},
   "outputs": [],
   "source": [
    "def zigzag(s,numRows):\n",
    "    if numRows == 1 or numRows >= len(s):\n",
    "        return s\n",
    "\n",
    "    rows = [[] for i in range(numRows)]\n",
    "    index = 0\n",
    "    step = 1\n",
    "    for c in s:\n",
    "        rows[index].append(c)\n",
    "        if index == 0:\n",
    "            step = 1\n",
    "        elif index == numRows -1:\n",
    "            step = -1\n",
    "        index += step\n",
    "\n",
    "    print (rows)\n",
    "    for i in range(numRows):\n",
    "        rows[i] = ''.join(rows[i])\n",
    "    print (rows)\n",
    "    return ''.join(rows)"
   ]
  },
  {
   "cell_type": "code",
   "execution_count": 5,
   "metadata": {},
   "outputs": [
    {
     "name": "stdout",
     "output_type": "stream",
     "text": [
      "[['P', 'A', 'H', 'N'], ['A', 'P', 'L', 'S', 'I', 'I', 'G'], ['Y', 'I', 'R']]\n",
      "['PAHN', 'APLSIIG', 'YIR']\n"
     ]
    },
    {
     "data": {
      "text/plain": [
       "'PAHNAPLSIIGYIR'"
      ]
     },
     "execution_count": 5,
     "metadata": {},
     "output_type": "execute_result"
    }
   ],
   "source": [
    "zigzag(\"PAYPALISHIRING\", 3)"
   ]
  }
 ],
 "metadata": {
  "kernelspec": {
   "display_name": "Python 3",
   "language": "python",
   "name": "python3"
  },
  "language_info": {
   "codemirror_mode": {
    "name": "ipython",
    "version": 3
   },
   "file_extension": ".py",
   "mimetype": "text/x-python",
   "name": "python",
   "nbconvert_exporter": "python",
   "pygments_lexer": "ipython3",
   "version": "3.9.6"
  }
 },
 "nbformat": 4,
 "nbformat_minor": 2
}
