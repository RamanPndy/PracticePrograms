{
 "cells": [
  {
   "cell_type": "code",
   "execution_count": 4,
   "metadata": {},
   "outputs": [],
   "source": [
    "import math\n",
    "\n",
    "def calc_cosine_similarity(a, b):\n",
    "    # Calculate dot product\n",
    "    dot_product = a[0] * b[0] + a[1] * b[1]\n",
    "\n",
    "    # Calculate magnitudes\n",
    "    magnitude_king = math.sqrt(a[0]**2 + a[1]**2)\n",
    "    magnitude_queen = math.sqrt(b[0]**2 + b[1]**2)\n",
    "\n",
    "    # Cosine similarity\n",
    "    cosine_similarity = dot_product / (magnitude_king * magnitude_queen)\n",
    "    print(cosine_similarity)"
   ]
  },
  {
   "cell_type": "code",
   "execution_count": 5,
   "metadata": {},
   "outputs": [
    {
     "name": "stdout",
     "output_type": "stream",
     "text": [
      "0.9738412097417933\n"
     ]
    }
   ],
   "source": [
    "# Coordinates of the points\n",
    "king = (3, 8)\n",
    "queen = (4, 6)\n",
    "\n",
    "calc_cosine_similarity(king, queen)\n"
   ]
  },
  {
   "cell_type": "code",
   "execution_count": 6,
   "metadata": {},
   "outputs": [
    {
     "name": "stdout",
     "output_type": "stream",
     "text": [
      "0.0\n",
      "0.9738412097417933\n",
      "0.22722961560641844\n"
     ]
    }
   ],
   "source": [
    "P = (3, 8)\n",
    "Q = (4, 6)\n",
    "R = (-12, 8)\n",
    "\n",
    "calc_cosine_similarity(Q, R)\n",
    "\n",
    "calc_cosine_similarity(Q, P)\n",
    "\n",
    "calc_cosine_similarity(P, R)"
   ]
  }
 ],
 "metadata": {
  "kernelspec": {
   "display_name": ".venv",
   "language": "python",
   "name": "python3"
  },
  "language_info": {
   "codemirror_mode": {
    "name": "ipython",
    "version": 3
   },
   "file_extension": ".py",
   "mimetype": "text/x-python",
   "name": "python",
   "nbconvert_exporter": "python",
   "pygments_lexer": "ipython3",
   "version": "3.9.6"
  }
 },
 "nbformat": 4,
 "nbformat_minor": 2
}
